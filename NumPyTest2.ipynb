{
 "cells": [
  {
   "cell_type": "code",
   "execution_count": 2,
   "metadata": {},
   "outputs": [
    {
     "name": "stdout",
     "output_type": "stream",
     "text": [
      "Matrix multiplication result:\n",
      " [[19 22]\n",
      " [43 50]]\n"
     ]
    }
   ],
   "source": [
    "import numpy as np\n",
    "\n",
    "# Creating two 2D matrices\n",
    "matrix1 = np.array([[1, 2], [3, 4]])\n",
    "matrix2 = np.array([[5, 6], [7, 8]])\n",
    "\n",
    "# Matrix multiplication\n",
    "result = np.dot(matrix1, matrix2)\n",
    "print(\"Matrix multiplication result:\\n\", result)"
   ]
  },
  {
   "cell_type": "code",
   "execution_count": null,
   "metadata": {},
   "outputs": [],
   "source": []
  },
  {
   "cell_type": "code",
   "execution_count": 9,
   "metadata": {},
   "outputs": [
    {
     "name": "stdout",
     "output_type": "stream",
     "text": [
      "Maximum value of the array: 9\n",
      "Minimum value of the array: 1\n",
      "Mean value of the array: 5.0\n",
      "Median value of the array: 5.0\n",
      "Standard deviation of the array: 2.581988897471611\n"
     ]
    }
   ],
   "source": [
    "import numpy as np\n",
    "\n",
    "# Creating an array\n",
    "array = np.array([1, 2, 3, 4, 5, 6, 7, 8, 9])\n",
    "\n",
    "# Calculating statistical values\n",
    "print(\"Maximum value of the array:\", np.max(array))  # maximum\n",
    "print(\"Minimum value of the array:\", np.min(array))  # minimum\n",
    "print(\"Mean value of the array:\", np.mean(array))  # mean\n",
    "print(\"Median value of the array:\", np.median(array))  # median\n",
    "print(\"Standard deviation of the array:\", np.std(array))  # standard deviation"
   ]
  },
  {
   "cell_type": "code",
   "execution_count": 6,
   "metadata": {},
   "outputs": [
    {
     "name": "stdout",
     "output_type": "stream",
     "text": [
      "Array of random numbers:\n",
      " [[0.30412594 0.97163763 0.25935435 0.92052177]\n",
      " [0.63486423 0.16216839 0.18132435 0.06472154]\n",
      " [0.66591028 0.60417231 0.79000426 0.77378944]]\n",
      "Array of random integers:\n",
      " [[8 9 1]\n",
      " [4 6 1]\n",
      " [8 8 9]]\n"
     ]
    }
   ],
   "source": [
    "import numpy as np\n",
    "\n",
    "# Creating an array of random numbers\n",
    "random_array = np.random.rand(3, 4)  # 3x4 array with random numbers between 0 and 1\n",
    "print(\"Array of random numbers:\\n\", random_array)\n",
    "\n",
    "# Generating random integers\n",
    "random_int_array = np.random.randint(1, 10, size=(3, 3))  # 3x3 array of integers between 1 and 10\n",
    "print(\"Array of random integers:\\n\", random_int_array)"
   ]
  }
 ],
 "metadata": {
  "kernelspec": {
   "display_name": "Python 3",
   "language": "python",
   "name": "python3"
  },
  "language_info": {
   "codemirror_mode": {
    "name": "ipython",
    "version": 3
   },
   "file_extension": ".py",
   "mimetype": "text/x-python",
   "name": "python",
   "nbconvert_exporter": "python",
   "pygments_lexer": "ipython3",
   "version": "3.13.0"
  }
 },
 "nbformat": 4,
 "nbformat_minor": 2
}
