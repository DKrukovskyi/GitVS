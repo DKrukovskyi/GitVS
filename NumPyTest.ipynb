{
 "cells": [
  {
   "cell_type": "code",
   "execution_count": 9,
   "metadata": {},
   "outputs": [
    {
     "name": "stdout",
     "output_type": "stream",
     "text": [
      "Array * 2: [ 2  4  6  8 10]\n",
      "Array + 10: [11 12 13 14 15]\n",
      "Sum of all elements: 15\n",
      "Mean value: 3.0\n"
     ]
    }
   ],
   "source": [
    "import numpy as np\n",
    "\n",
    "# Creating an array\n",
    "array = np.array([1, 2, 3, 4, 5])\n",
    "\n",
    "# Arithmetic operations\n",
    "print(\"Array * 2:\", array * 2)\n",
    "print(\"Array + 10:\", array + 10)\n",
    "print(\"Sum of all elements:\", np.sum(array))\n",
    "print(\"Mean value:\", np.mean(array))"
   ]
  },
  {
   "cell_type": "code",
   "execution_count": 2,
   "metadata": {},
   "outputs": [
    {
     "name": "stdout",
     "output_type": "stream",
     "text": [
      "First row: [1 2 3]\n",
      "Element (2,3): 6\n",
      "Transposed matrix:\n",
      "[[1 4 7]\n",
      " [2 5 8]\n",
      " [3 6 9]]\n",
      "Sum by rows: [ 6 15 24]\n",
      "Sum by columns: [12 15 18]\n"
     ]
    }
   ],
   "source": [
    "import numpy as np\n",
    "\n",
    "# Creating a 2D array\n",
    "matrix = np.array([[1, 2, 3], [4, 5, 6], [7, 8, 9]])\n",
    "\n",
    "# Accessing elements\n",
    "print(\"First row:\", matrix[0])\n",
    "print(\"Element (2,3):\", matrix[1, 2])\n",
    "\n",
    "# Transposition\n",
    "print(\"Transposed matrix:\")\n",
    "print(matrix.T)\n",
    "\n",
    "# Sum by rows and columns\n",
    "print(\"Sum by rows:\", matrix.sum(axis=1))\n",
    "print(\"Sum by columns:\", matrix.sum(axis=0))"
   ]
  }
 ],
 "metadata": {
  "kernelspec": {
   "display_name": "Python 3",
   "language": "python",
   "name": "python3"
  },
  "language_info": {
   "codemirror_mode": {
    "name": "ipython",
    "version": 3
   },
   "file_extension": ".py",
   "mimetype": "text/x-python",
   "name": "python",
   "nbconvert_exporter": "python",
   "pygments_lexer": "ipython3",
   "version": "3.13.0"
  }
 },
 "nbformat": 4,
 "nbformat_minor": 2
}
